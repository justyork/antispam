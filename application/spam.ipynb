{
 "cells": [
  {
   "cell_type": "code",
   "execution_count": 219,
   "outputs": [],
   "source": [
    "import re\n",
    "import os\n",
    "import sys\n",
    "import pandas as pd\n",
    "\n",
    "data = pd.DataFrame(columns=['word', 'spam', 'not_spam'])"
   ],
   "metadata": {
    "collapsed": false,
    "pycharm": {
     "name": "#%%\n"
    }
   }
  },
  {
   "cell_type": "code",
   "execution_count": 220,
   "outputs": [],
   "source": [
    "NOT_SPAM = 0\n",
    "SPAM = 1\n",
    "\n",
    "\n",
    "class MetaSingleton(type):\n",
    "    _instances = {}\n",
    "\n",
    "    def __call__(cls, *args, **kwargs):\n",
    "        if cls not in cls._instances:\n",
    "            cls._instances[cls] = super(MetaSingleton, cls).__call__(*args, **kwargs)\n",
    "        return cls._instances[cls]\n",
    "\n",
    "\n",
    "class Spam(metaclass=MetaSingleton):\n",
    "    words_freq = {}\n",
    "    total_words_count = {}\n",
    "    count_spam = 0\n",
    "    pA = 0\n",
    "    pNotA = 0\n",
    "    replace_char_list = {\n",
    "        '!': '',\n",
    "        '\"': '',\n",
    "        \"'\": '',\n",
    "        '.': '',\n",
    "        ',': '',\n",
    "        '(': '',\n",
    "        ')': '',\n",
    "        '[': '',\n",
    "        ']': '',\n",
    "        '/': '',\n",
    "        '{': '',\n",
    "        '}': '',\n",
    "        '?': '',\n",
    "        '*': '',\n",
    "        '#': '',\n",
    "        '№': '',\n",
    "        ':': '',\n",
    "        ';': '',\n",
    "        '%': '',\n",
    "        '_': '',\n",
    "        '$': '',\n",
    "    }\n",
    "    text_arr = {}\n",
    "\n",
    "    # обучить данные\n",
    "    def train(self, train_words):\n",
    "        for text in train_words:\n",
    "            # считаем количество спам предложений\n",
    "            if text[1] == SPAM:\n",
    "                self.count_spam += 1\n",
    "            self._calculate_word_frequencies(text[0], text[1])\n",
    "\n",
    "        self.pA = self.count_spam / len(train_words)\n",
    "        self.pNotA = 1 - self.pA\n",
    "\n",
    "    # расчет количества слов в каждом предложении\n",
    "    def _calculate_word_frequencies(self, body, label):\n",
    "        word_list = self._clear_text(body).lower().split(' ')\n",
    "\n",
    "        for word in word_list:\n",
    "            if word == '':\n",
    "                continue\n",
    "\n",
    "            # общий подсчет слов\n",
    "            if not self.total_words_count.get(word):\n",
    "                self.total_words_count[word] = 2\n",
    "\n",
    "            self.total_words_count[word] += 1\n",
    "\n",
    "            # количество слов в спаме и нет [не спам, спам]\n",
    "            if not self.words_freq.get(word):\n",
    "                self.words_freq[word] = [1, 1]\n",
    "\n",
    "            self.words_freq[word][label] += 1\n",
    "\n",
    "    # расчет вероятности слова\n",
    "    def _calculate_P_Bi_A(self, word, label):\n",
    "        return self.words_freq[word][label] / self.total_words_count[word]\n",
    "\n",
    "    # расчет вероятности предложения\n",
    "    def _calculate_P_B_A(self, text, label):\n",
    "        word_list = text.lower().split(' ')\n",
    "        pba = 1\n",
    "        for word in word_list:\n",
    "            if not self.words_freq.get(word):\n",
    "                continue\n",
    "            val = self._calculate_P_Bi_A(word, label)\n",
    "\n",
    "            if not self.text_arr.get(word):\n",
    "                self.text_arr[word] = [word, val]\n",
    "            elif len(self.text_arr[word]) == 2:\n",
    "                self.text_arr[word].append(val)\n",
    "                self.text_arr[word].append(self.words_freq[word][SPAM])\n",
    "                self.text_arr[word].append(self.words_freq[word][NOT_SPAM])\n",
    "                self.text_arr[word].append(self.total_words_count[word])\n",
    "\n",
    "            pba *= val\n",
    "\n",
    "        return pba\n",
    "\n",
    "    # отчистить текст от знаков\n",
    "    def _clear_text(self, text):\n",
    "        # убрать числа\n",
    "        text = re.sub(r'\\d+', '', text)\n",
    "\n",
    "        for i, j in self.replace_char_list.items():\n",
    "            text = text.replace(i, j)\n",
    "\n",
    "        return text\n",
    "\n",
    "    # классифицировать\n",
    "    def classify(self, email):\n",
    "        self.text_arr = {}\n",
    "        email = self._clear_text(email.lower())\n",
    "        spam_rate = self._calculate_P_B_A(email, SPAM) * self.pA / self.pNotA\n",
    "\n",
    "        not_spam_rate = self._calculate_P_B_A(email, NOT_SPAM) * self.pA / self.pNotA\n",
    "        return spam_rate > not_spam_rate\n",
    "\n",
    "\n",
    "train_data = []\n",
    "\n",
    "\n",
    "def train():\n",
    "    Spam().train(train_data)\n"
   ],
   "metadata": {
    "collapsed": false,
    "pycharm": {
     "name": "#%%\n"
    }
   }
  },
  {
   "cell_type": "code",
   "execution_count": 221,
   "outputs": [],
   "source": [
    "df = pd.read_csv(r'W:\\python\\DataSceince\\classifier\\application\\raw\\spam_or_not_spam.csv')\n",
    "df = df.dropna()\n",
    "\n",
    "# так как в программе используется обратные значения, меняем их местами 1 - значение спама\n",
    "df.label = df.label.replace(to_replace={1:0,0:1})"
   ],
   "metadata": {
    "collapsed": false,
    "pycharm": {
     "name": "#%%\n"
    }
   }
  },
  {
   "cell_type": "code",
   "execution_count": 222,
   "outputs": [],
   "source": [
    "# быстрый осмотр показал, что во многих письмах встречается слово NUMBER, таким образом мы его полностью уберем\n",
    "def remove_number(text):\n",
    "    text = text.replace('NUMBER', '')\n",
    "\n",
    "    # после удаления останутся лишние пробелы их тоже надо убрать\n",
    "    text = re.sub(r'\\s+', ' ', text)\n",
    "    return text\n",
    "\n",
    "# применим функцию\n",
    "df.email = df.email.apply(remove_number)\n",
    "\n",
    "train_data = df.values.tolist()\n",
    "train()"
   ],
   "metadata": {
    "collapsed": false,
    "pycharm": {
     "name": "#%%\n"
    }
   }
  },
  {
   "cell_type": "code",
   "execution_count": 252,
   "outputs": [],
   "source": [
    "texts = [\n",
    "    # 'Hi, My name is Warren E. Buffett an American business magnate, investor and philanthropist. am the most successful investor in the world. I believe strongly in‘giving while living’ I had one idea that never changed in my mind? that you should use your wealth to help people and i have decided to give {$1,500,000.00} One Million Five Hundred Thousand United Dollars, to randomly selected individuals worldwide. On receipt of this email, you should count yourself as the lucky individual. Your email address was chosen online while searching at random. Kindly get back to me at your earliest convenience before i travel to japan for my treatment , so I know your email address is valid. Thank you for accepting our offer, we are indeed grateful You Can Google my name for more information: God bless you. Best Regard Mr.Warren E. Buffett Billionaire investor !',\n",
    "    # \"Hi guys I want to build a website like REDACTED and I wanted to get your perspective of whether that site is good from the users' perspective before I go ahead and build something similar. I think that the design of the site is very modern and nice but I am not sure how people would react to a similar site? I look forward to your feedback. Many thanks!\",\n",
    "\n",
    "]\n",
    "\n",
    "# for text in texts:\n",
    "#     print(Spam().classify(text))\n",
    "\n",
    "text = 'As a result of your application for the position of Data Engineer, I would like to invite you to attend an interview on May 30, at 9 a.m. at our office in Washington, DC. You will have an interview with the department manager, Moris Peterson. The interview will last about 45 minutes. If the date or time of the interview is inconvenient, please contact me by phone or email to arrange another appointment. We look forward to seeing you.'\n",
    "\n",
    "text = Spam()._clear_text(text).lower()"
   ],
   "metadata": {
    "collapsed": false,
    "pycharm": {
     "name": "#%%\n"
    }
   }
  },
  {
   "cell_type": "code",
   "execution_count": 253,
   "outputs": [
    {
     "data": {
      "text/plain": "'as a result of your application for the position of data engineer i would like to invite you to attend an interview on may  at  am at our office in washington dc you will have an interview with the department manager moris peterson the interview will last about  minutes if the date or time of the interview is inconvenient please contact me by phone or email to arrange another appointment we look forward to seeing you'"
     },
     "execution_count": 253,
     "metadata": {},
     "output_type": "execute_result"
    }
   ],
   "source": [
    "tmp = []\n",
    "\n",
    "for item in Spam().text_arr.values():\n",
    "    tmp.append(item)\n",
    "\n",
    "data = pd.DataFrame(tmp, columns=['word', 'spam', 'not_spam', 'count_spam', 'count_not_spam', 'count'])\n",
    "\n",
    "# data\n",
    "\n",
    "text"
   ],
   "metadata": {
    "collapsed": false,
    "pycharm": {
     "name": "#%%\n"
    }
   }
  },
  {
   "cell_type": "code",
   "execution_count": 270,
   "outputs": [
    {
     "data": {
      "text/plain": "     word      spam  not_spam  count_spam  count_not_spam  count\n0      as  0.753429  0.246571        2527             827   3354\n1       a  0.807901  0.192099       10552            2509  13061\n2  result  0.760000  0.240000          57              18     75\n3      of  0.749246  0.749246       10679            3574  14253\n4    your  0.381077  0.618923        1168            1897   3065",
      "text/html": "<div>\n<style scoped>\n    .dataframe tbody tr th:only-of-type {\n        vertical-align: middle;\n    }\n\n    .dataframe tbody tr th {\n        vertical-align: top;\n    }\n\n    .dataframe thead th {\n        text-align: right;\n    }\n</style>\n<table border=\"1\" class=\"dataframe\">\n  <thead>\n    <tr style=\"text-align: right;\">\n      <th></th>\n      <th>word</th>\n      <th>spam</th>\n      <th>not_spam</th>\n      <th>count_spam</th>\n      <th>count_not_spam</th>\n      <th>count</th>\n    </tr>\n  </thead>\n  <tbody>\n    <tr>\n      <td>0</td>\n      <td>as</td>\n      <td>0.753429</td>\n      <td>0.246571</td>\n      <td>2527</td>\n      <td>827</td>\n      <td>3354</td>\n    </tr>\n    <tr>\n      <td>1</td>\n      <td>a</td>\n      <td>0.807901</td>\n      <td>0.192099</td>\n      <td>10552</td>\n      <td>2509</td>\n      <td>13061</td>\n    </tr>\n    <tr>\n      <td>2</td>\n      <td>result</td>\n      <td>0.760000</td>\n      <td>0.240000</td>\n      <td>57</td>\n      <td>18</td>\n      <td>75</td>\n    </tr>\n    <tr>\n      <td>3</td>\n      <td>of</td>\n      <td>0.749246</td>\n      <td>0.749246</td>\n      <td>10679</td>\n      <td>3574</td>\n      <td>14253</td>\n    </tr>\n    <tr>\n      <td>4</td>\n      <td>your</td>\n      <td>0.381077</td>\n      <td>0.618923</td>\n      <td>1168</td>\n      <td>1897</td>\n      <td>3065</td>\n    </tr>\n  </tbody>\n</table>\n</div>"
     },
     "execution_count": 270,
     "metadata": {},
     "output_type": "execute_result"
    }
   ],
   "source": [
    "# расчет вероятности слова\n",
    "def calculate_P_Bi_A(word, label):\n",
    "    return Spam().words_freq[word][label] / Spam().total_words_count[word]\n",
    "\n",
    "# расчет вероятности предложения\n",
    "def calculate_P_B_A(text, label):\n",
    "    word_list = text.lower().split(' ')\n",
    "    pba = 1\n",
    "    for word in word_list:\n",
    "        if not Spam().words_freq.get(word):\n",
    "            continue\n",
    "        pba *= Spam()._calculate_P_Bi_A(word, label)\n",
    "    return pba\n",
    "data.head()"
   ],
   "metadata": {
    "collapsed": false,
    "pycharm": {
     "name": "#%%\n"
    }
   }
  },
  {
   "cell_type": "code",
   "execution_count": 286,
   "outputs": [
    {
     "name": "stdout",
     "output_type": "stream",
     "text": [
      "P(A) - 0.8336112037\n",
      "P(B) - 0.1663887963\n",
      "P(B|A) - 0.00000000000461337270\n",
      "P(B|notA) - 0.00000000000000000000000000000000000000000000003069700194229710996788892127098282\n",
      "P(A)P(B|A)0.00000000000384575917\n",
      "P(A|B) - 0.00000000002311308970\n",
      "P(notA|B) - 0.00000000000000000000000000000000000000000000015379259490128814105679486294754932\n"
     ]
    }
   ],
   "source": [
    "count_spam = Spam().count_spam\n",
    "pA = Spam().pA\n",
    "pB = Spam().pNotA\n",
    "print('P(A) - {:.10f}'.format(pA))\n",
    "print('P(B) - {:.10f}'.format(pB))\n",
    "\n",
    "pBA = calculate_P_B_A(text, SPAM)\n",
    "pBNotA = calculate_P_B_A(text, NOT_SPAM)\n",
    "print('P(B|A) - {:.20f}'.format(pBA))\n",
    "print('P(B|notA) - {:.80f}'.format(pBNotA))\n",
    "\n",
    "pAB = pBA * pA / pB\n",
    "print('P(A)P(B|A){:.20f}'.format(pBA * pA))\n",
    "print('P(A|B) - {:.20f}'.format(pAB))\n",
    "pNotAB = pBNotA * pA / pB\n",
    "print('P(notA|B) - {:.80f}'.format(pNotAB))\n"
   ],
   "metadata": {
    "collapsed": false,
    "pycharm": {
     "name": "#%%\n"
    }
   }
  }
 ],
 "metadata": {
  "kernelspec": {
   "display_name": "Python 3",
   "language": "python",
   "name": "python3"
  },
  "language_info": {
   "codemirror_mode": {
    "name": "ipython",
    "version": 2
   },
   "file_extension": ".py",
   "mimetype": "text/x-python",
   "name": "python",
   "nbconvert_exporter": "python",
   "pygments_lexer": "ipython2",
   "version": "2.7.6"
  }
 },
 "nbformat": 4,
 "nbformat_minor": 0
}